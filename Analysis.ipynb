{
 "cells": [
  {
   "cell_type": "code",
   "execution_count": 28,
   "id": "6ed19939",
   "metadata": {},
   "outputs": [],
   "source": [
    "import pandas as pd\n",
    "import os"
   ]
  },
  {
   "cell_type": "code",
   "execution_count": 36,
   "id": "ea3df5f1",
   "metadata": {},
   "outputs": [
    {
     "name": "stdout",
     "output_type": "stream",
     "text": [
      "C:\\Users\\Thomas\\DESKTOP\\Pandas-Data-Science-Tasks\n"
     ]
    }
   ],
   "source": [
    "current_path = os.getcwd()\n",
    "print(file_path)\n",
    "# os.chdir(\"SalesAnalysis/Sales_Data\")\n",
    "sales_files = os.listdir()"
   ]
  },
  {
   "cell_type": "code",
   "execution_count": 40,
   "id": "4f5faf45",
   "metadata": {},
   "outputs": [],
   "source": [
    "all_sales = pd.DataFrame()\n",
    "c = 0\n",
    "for file in sales_files:\n",
    "    data = pd.read_csv(file)\n",
    "    all_sales = pd.concat([all_sales, data])"
   ]
  },
  {
   "cell_type": "code",
   "execution_count": 43,
   "id": "39aa98e0",
   "metadata": {},
   "outputs": [
    {
     "name": "stdout",
     "output_type": "stream",
     "text": [
      "  Order ID                     Product Quantity Ordered Price Each  \\\n",
      "0   176558        USB-C Charging Cable                2      11.95   \n",
      "1      NaN                         NaN              NaN        NaN   \n",
      "2   176559  Bose SoundSport Headphones                1      99.99   \n",
      "3   176560                Google Phone                1        600   \n",
      "4   176560            Wired Headphones                1      11.99   \n",
      "\n",
      "       Order Date                      Purchase Address  \n",
      "0  04/19/19 08:46          917 1st St, Dallas, TX 75001  \n",
      "1             NaN                                   NaN  \n",
      "2  04/07/19 22:30     682 Chestnut St, Boston, MA 02215  \n",
      "3  04/12/19 14:38  669 Spruce St, Los Angeles, CA 90001  \n",
      "4  04/12/19 14:38  669 Spruce St, Los Angeles, CA 90001  \n",
      "----------------------------------------\n",
      "      Order ID                   Product Quantity Ordered Price Each  \\\n",
      "18378   194090              Google Phone                1        600   \n",
      "18379   194091     AA Batteries (4-pack)                1       3.84   \n",
      "18380   194092    AAA Batteries (4-pack)                2       2.99   \n",
      "18381   194093     AA Batteries (4-pack)                1       3.84   \n",
      "18382   194094  Lightning Charging Cable                1      14.95   \n",
      "\n",
      "           Order Date                        Purchase Address  \n",
      "18378  04/08/19 17:11   177 Jackson St, Los Angeles, CA 90001  \n",
      "18379  04/15/19 16:02         311 Forest St, Austin, TX 73301  \n",
      "18380  04/28/19 14:36  347 Sunset St, San Francisco, CA 94016  \n",
      "18381  04/14/19 15:09         835 Lake St, Portland, OR 97035  \n",
      "18382  04/18/19 11:08          354 North St, Boston, MA 02215  \n"
     ]
    }
   ],
   "source": [
    "print(all_sales.head(5))\n",
    "print(\"-\"*40)\n",
    "print(all_sales.tail(5))"
   ]
  },
  {
   "cell_type": "code",
   "execution_count": null,
   "id": "3c76ed56",
   "metadata": {},
   "outputs": [],
   "source": []
  }
 ],
 "metadata": {
  "kernelspec": {
   "display_name": "Python 3 (ipykernel)",
   "language": "python",
   "name": "python3"
  },
  "language_info": {
   "codemirror_mode": {
    "name": "ipython",
    "version": 3
   },
   "file_extension": ".py",
   "mimetype": "text/x-python",
   "name": "python",
   "nbconvert_exporter": "python",
   "pygments_lexer": "ipython3",
   "version": "3.10.0"
  }
 },
 "nbformat": 4,
 "nbformat_minor": 5
}
