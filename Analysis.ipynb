{
 "cells": [
  {
   "cell_type": "code",
   "execution_count": 9,
   "id": "6ed19939",
   "metadata": {},
   "outputs": [],
   "source": [
    "import pandas as pd\n",
    "import os\n",
    "import re\n",
    "import matplotlib.pyplot as plt"
   ]
  },
  {
   "cell_type": "code",
   "execution_count": 2,
   "id": "ea3df5f1",
   "metadata": {},
   "outputs": [
    {
     "name": "stdout",
     "output_type": "stream",
     "text": [
      "C:\\Users\\Thomas\\desktop\\Pandas-Data-Science-Tasks\n",
      "['Sales_April_2019.csv', 'Sales_August_2019.csv', 'Sales_December_2019.csv', 'Sales_February_2019.csv', 'Sales_January_2019.csv', 'Sales_July_2019.csv', 'Sales_June_2019.csv', 'Sales_March_2019.csv', 'Sales_May_2019.csv', 'Sales_November_2019.csv', 'Sales_October_2019.csv', 'Sales_September_2019.csv']\n"
     ]
    }
   ],
   "source": [
    "current_path = os.getcwd()\n",
    "print(current_path)\n",
    "os.chdir(\"SalesAnalysis/Sales_Data\")\n",
    "sales_files = os.listdir()\n",
    "print(sales_files)"
   ]
  },
  {
   "cell_type": "code",
   "execution_count": 3,
   "id": "4f5faf45",
   "metadata": {},
   "outputs": [],
   "source": [
    "# First we merge all 12 months of sales data into a single dataframe\n",
    "all_sales = pd.DataFrame()\n",
    "for file in sales_files:\n",
    "    data = pd.read_csv(file)\n",
    "    all_sales = pd.concat([all_sales, data], ignore_index=True)"
   ]
  },
  {
   "cell_type": "code",
   "execution_count": 4,
   "id": "39aa98e0",
   "metadata": {},
   "outputs": [
    {
     "name": "stdout",
     "output_type": "stream",
     "text": [
      "  Order ID                     Product Quantity Ordered Price Each  \\\n",
      "0   176558        USB-C Charging Cable                2      11.95   \n",
      "1      NaN                         NaN              NaN        NaN   \n",
      "2   176559  Bose SoundSport Headphones                1      99.99   \n",
      "3   176560                Google Phone                1        600   \n",
      "4   176560            Wired Headphones                1      11.99   \n",
      "\n",
      "       Order Date                      Purchase Address  \n",
      "0  04/19/19 08:46          917 1st St, Dallas, TX 75001  \n",
      "1             NaN                                   NaN  \n",
      "2  04/07/19 22:30     682 Chestnut St, Boston, MA 02215  \n",
      "3  04/12/19 14:38  669 Spruce St, Los Angeles, CA 90001  \n",
      "4  04/12/19 14:38  669 Spruce St, Los Angeles, CA 90001  \n",
      "----------------------------------------\n",
      "       Order ID                 Product Quantity Ordered Price Each  \\\n",
      "186845   259353  AAA Batteries (4-pack)                3       2.99   \n",
      "186846   259354                  iPhone                1        700   \n",
      "186847   259355                  iPhone                1        700   \n",
      "186848   259356  34in Ultrawide Monitor                1     379.99   \n",
      "186849   259357    USB-C Charging Cable                1      11.95   \n",
      "\n",
      "            Order Date                         Purchase Address  \n",
      "186845  09/17/19 20:56   840 Highland St, Los Angeles, CA 90001  \n",
      "186846  09/01/19 16:00  216 Dogwood St, San Francisco, CA 94016  \n",
      "186847  09/23/19 07:39     220 12th St, San Francisco, CA 94016  \n",
      "186848  09/19/19 17:30   511 Forest St, San Francisco, CA 94016  \n",
      "186849  09/30/19 00:18   250 Meadow St, San Francisco, CA 94016  \n"
     ]
    }
   ],
   "source": [
    "print(all_sales.head());\n",
    "print(\"-\"*40);\n",
    "print(all_sales.tail(5));"
   ]
  },
  {
   "cell_type": "code",
   "execution_count": 5,
   "id": "3c76ed56",
   "metadata": {},
   "outputs": [],
   "source": [
    "# What was the best month for sales and how much was earned that month?"
   ]
  },
  {
   "cell_type": "code",
   "execution_count": 6,
   "id": "ae8e6544",
   "metadata": {},
   "outputs": [],
   "source": [
    "sales_per_month = {\"01\":0.00, \"02\":0.00, \"03\":0.00, \"04\":0.00, \"05\":0.00, \"06\":0.00, \"07\":0.00, \"08\":0.00, \"09\":0.00, \"10\":0.00, \"11\":0.00, \"12\":0.00}\n",
    "dates = all_sales[\"Order Date\"]\n",
    "prices = all_sales[\"Price Each\"]\n",
    "amount = all_sales[\"Quantity Ordered\"]\n",
    "index = 0\n",
    "month_regex = re.compile(r\"^(\\d\\d)\")\n",
    "\n",
    "for date in dates:\n",
    "    if date == \"Order Date\":\n",
    "        pass\n",
    "    else:\n",
    "        if isinstance(date, str):\n",
    "            month = month_regex.search(date).group()\n",
    "            sales_per_month[month] += (float(prices[index]) * float(amount[index]))\n",
    "    index+=1\n"
   ]
  },
  {
   "cell_type": "code",
   "execution_count": 7,
   "id": "e7f7ef45",
   "metadata": {},
   "outputs": [
    {
     "name": "stdout",
     "output_type": "stream",
     "text": [
      "{'01': 1822256.729999914, '02': 2202022.4199999636, '03': 2807100.3800003603, '04': 3390670.240000704, '05': 3152606.750000553, '06': 2577802.260000178, '07': 2647775.7600002377, '08': 2244467.8799999943, '09': 2097560.129999891, '10': 3736726.8800009703, '11': 3199603.200000589, '12': 4613443.340001534}\n",
      "The largest value earned in a month is:  4613443.34\n",
      "in month 12\n"
     ]
    }
   ],
   "source": [
    "print(sales_per_month)\n",
    "largest_value_earned = max(sales_per_month.values())\n",
    "month = list(sales_per_month.values()).index(max(sales_per_month.values()))\n",
    "print(\"The largest value earned in a month is: \", round(largest_value_earned, 2))\n",
    "print(\"in month\", list(sales_per_month.keys())[month])"
   ]
  },
  {
   "cell_type": "code",
   "execution_count": 11,
   "id": "5aa059ff",
   "metadata": {},
   "outputs": [],
   "source": [
    "# This makes sense because of Christmas"
   ]
  },
  {
   "cell_type": "code",
   "execution_count": 17,
   "id": "c65c2fa4",
   "metadata": {},
   "outputs": [
    {
     "data": {
      "text/plain": [
       "Text(0.5, 0, 'Month Number')"
      ]
     },
     "execution_count": 17,
     "metadata": {},
     "output_type": "execute_result"
    },
    {
     "data": {
      "image/png": "[encoded data removed]",
      "text/plain": [
       "<Figure size 640x480 with 1 Axes>"
      ]
     },
     "metadata": {},
     "output_type": "display_data"
    }
   ],
   "source": [
    "months = range(1, 13)\n",
    "\n",
    "plt.bar(months, list(sales_per_month.values()))\n",
    "plt.xticks(months)\n",
    "plt.ylabel(\"Sales (millions in USD)\")\n",
    "plt.xlabel(\"Month Number\")"
   ]
  },
  {
   "cell_type": "code",
   "execution_count": 20,
   "id": "ea1f9c01",
   "metadata": {},
   "outputs": [],
   "source": [
    "#Next task: What city had the highest number of sales?"
   ]
  },
  {
   "cell_type": "code",
   "execution_count": 47,
   "id": "624b7a0e",
   "metadata": {},
   "outputs": [
    {
     "name": "stdout",
     "output_type": "stream",
     "text": [
      "0                    917 1st St, Dallas, TX 75001\n",
      "1                                             NaN\n",
      "2               682 Chestnut St, Boston, MA 02215\n",
      "3            669 Spruce St, Los Angeles, CA 90001\n",
      "4            669 Spruce St, Los Angeles, CA 90001\n",
      "                           ...                   \n",
      "186845     840 Highland St, Los Angeles, CA 90001\n",
      "186846    216 Dogwood St, San Francisco, CA 94016\n",
      "186847       220 12th St, San Francisco, CA 94016\n",
      "186848     511 Forest St, San Francisco, CA 94016\n",
      "186849     250 Meadow St, San Francisco, CA 94016\n",
      "Name: Purchase Address, Length: 186850, dtype: object\n"
     ]
    }
   ],
   "source": [
    "addresses = all_sales[\"Purchase Address\"]\n",
    "print(addresses)"
   ]
  },
  {
   "cell_type": "code",
   "execution_count": 59,
   "id": "a6adc633",
   "metadata": {},
   "outputs": [],
   "source": [
    "sales_by_location = {}\n",
    "index = 0\n",
    "for address in addresses:\n",
    "    if address == \"Purchase Address\":\n",
    "        pass\n",
    "    else:\n",
    "        if isinstance(address, str):\n",
    "            city = list(address.split(\",\"))[1] + \", \" + list(address.split(\",\"))[2][1:3]\n",
    "            if city in sales_by_location.keys():\n",
    "                sales_by_location[city] += (float(prices[index]) * float(amount[index]))\n",
    "            else:\n",
    "                sales_by_location[city] = 0\n",
    "                sales_by_location[city] += (float(prices[index]) * float(amount[index]))\n",
    "    index+=1\n"
   ]
  },
  {
   "cell_type": "code",
   "execution_count": 60,
   "id": "d719d5c1",
   "metadata": {},
   "outputs": [
    {
     "name": "stdout",
     "output_type": "stream",
     "text": [
      "{' Dallas, TX': 2767975.40000032, ' Boston, MA': 3661642.010000925, ' Los Angeles, CA': 5452570.80000207, ' San Francisco, CA': 8262203.910004012, ' Seattle, WA': 2747755.4800003143, ' Atlanta, GA': 2795498.5800003405, ' New York City, NY': 4664317.430001556, ' Portland, OR': 1870732.3399999149, ' Austin, TX': 1819581.7499999092, ' Portland, ME': 449758.2699999996}\n"
     ]
    }
   ],
   "source": [
    "print(sales_by_location)"
   ]
  },
  {
   "cell_type": "code",
   "execution_count": 62,
   "id": "ade42a1c",
   "metadata": {},
   "outputs": [
    {
     "name": "stdout",
     "output_type": "stream",
     "text": [
      "The largest value earned in a location is:  8262203.91\n",
      "in   San Francisco, CA\n"
     ]
    }
   ],
   "source": [
    "largest_value_earned = max(sales_by_location.values())\n",
    "location = list(sales_by_location.values()).index(max(sales_by_location.values()))\n",
    "print(\"The largest value earned in a location is: \", round(largest_value_earned, 2))\n",
    "print(\"in \", list(sales_by_location.keys())[location])"
   ]
  },
  {
   "cell_type": "code",
   "execution_count": 65,
   "id": "1fb39393",
   "metadata": {},
   "outputs": [
    {
     "data": {
      "text/plain": [
       "Text(0, 0.5, 'Sales Amount (millions in USD)')"
      ]
     },
     "execution_count": 65,
     "metadata": {},
     "output_type": "execute_result"
    },
    {
     "data": {
      "image/png": "[encoded data removed]",
      "text/plain": [
       "<Figure size 2000x600 with 1 Axes>"
      ]
     },
     "metadata": {},
     "output_type": "display_data"
    }
   ],
   "source": [
    "cities = sales_by_location.keys()\n",
    "\n",
    "plt.figure(figsize=(20, 6))\n",
    "plt.bar(cities, sales_by_location.values())\n",
    "plt.xlabel(\"City\")\n",
    "plt.ylabel(\"Sales Amount (millions in USD)\")"
   ]
  },
  {
   "cell_type": "code",
   "execution_count": null,
   "id": "739ee8dd",
   "metadata": {},
   "outputs": [],
   "source": [
    "# Question 3: What time should we display advertisements to maximize likelihood\n",
    "#     of customer's buying products?\n",
    "\n"
   ]
  }
 ],
 "metadata": {
  "kernelspec": {
   "display_name": "Python 3 (ipykernel)",
   "language": "python",
   "name": "python3"
  },
  "language_info": {
   "codemirror_mode": {
    "name": "ipython",
    "version": 3
   },
   "file_extension": ".py",
   "mimetype": "text/x-python",
   "name": "python",
   "nbconvert_exporter": "python",
   "pygments_lexer": "ipython3",
   "version": "3.10.0"
  }
 },
 "nbformat": 4,
 "nbformat_minor": 5
}
